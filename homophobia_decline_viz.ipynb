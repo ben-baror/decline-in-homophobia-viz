{
 "cells": [
  {
   "cell_type": "code",
   "execution_count": 1,
   "id": "206dc830-b750-40db-a431-891c78db6abf",
   "metadata": {},
   "outputs": [],
   "source": [
    "import pandas as pd\n",
    "import matplotlib.pyplot as plt\n",
    "\n",
    "df = pd.read_csv('share-of-people-who-think-homosexuality-is-never-justified.csv')"
   ]
  },
  {
   "cell_type": "code",
   "execution_count": 14,
   "id": "873a737a-15a3-4d27-bfac-1f633958cf5c",
   "metadata": {},
   "outputs": [
    {
     "data": {
      "text/html": [
       "<div>\n",
       "<style scoped>\n",
       "    .dataframe tbody tr th:only-of-type {\n",
       "        vertical-align: middle;\n",
       "    }\n",
       "\n",
       "    .dataframe tbody tr th {\n",
       "        vertical-align: top;\n",
       "    }\n",
       "\n",
       "    .dataframe thead th {\n",
       "        text-align: right;\n",
       "    }\n",
       "</style>\n",
       "<table border=\"1\" class=\"dataframe\">\n",
       "  <thead>\n",
       "    <tr style=\"text-align: right;\">\n",
       "      <th></th>\n",
       "      <th>Entity</th>\n",
       "      <th>Homosexuality: Never justifiable (aggregate)</th>\n",
       "    </tr>\n",
       "  </thead>\n",
       "  <tbody>\n",
       "    <tr>\n",
       "      <th>408</th>\n",
       "      <td>Netherlands</td>\n",
       "      <td>33.899180</td>\n",
       "    </tr>\n",
       "    <tr>\n",
       "      <th>413</th>\n",
       "      <td>Netherlands</td>\n",
       "      <td>6.166164</td>\n",
       "    </tr>\n",
       "    <tr>\n",
       "      <th>571</th>\n",
       "      <td>Spain</td>\n",
       "      <td>69.569140</td>\n",
       "    </tr>\n",
       "    <tr>\n",
       "      <th>577</th>\n",
       "      <td>Spain</td>\n",
       "      <td>19.083520</td>\n",
       "    </tr>\n",
       "    <tr>\n",
       "      <th>583</th>\n",
       "      <td>Sweden</td>\n",
       "      <td>48.008380</td>\n",
       "    </tr>\n",
       "    <tr>\n",
       "      <th>589</th>\n",
       "      <td>Sweden</td>\n",
       "      <td>8.707586</td>\n",
       "    </tr>\n",
       "    <tr>\n",
       "      <th>637</th>\n",
       "      <td>United Kingdom</td>\n",
       "      <td>60.518560</td>\n",
       "    </tr>\n",
       "    <tr>\n",
       "      <th>642</th>\n",
       "      <td>United Kingdom</td>\n",
       "      <td>14.545360</td>\n",
       "    </tr>\n",
       "    <tr>\n",
       "      <th>644</th>\n",
       "      <td>United States</td>\n",
       "      <td>75.131120</td>\n",
       "    </tr>\n",
       "    <tr>\n",
       "      <th>650</th>\n",
       "      <td>United States</td>\n",
       "      <td>28.094130</td>\n",
       "    </tr>\n",
       "  </tbody>\n",
       "</table>\n",
       "</div>"
      ],
      "text/plain": [
       "             Entity  Homosexuality: Never justifiable (aggregate)\n",
       "408     Netherlands                                     33.899180\n",
       "413     Netherlands                                      6.166164\n",
       "571           Spain                                     69.569140\n",
       "577           Spain                                     19.083520\n",
       "583          Sweden                                     48.008380\n",
       "589          Sweden                                      8.707586\n",
       "637  United Kingdom                                     60.518560\n",
       "642  United Kingdom                                     14.545360\n",
       "644   United States                                     75.131120\n",
       "650   United States                                     28.094130"
      ]
     },
     "execution_count": 14,
     "metadata": {},
     "output_type": "execute_result"
    }
   ],
   "source": [
    "# Create a subset of countries and years from the viz\n",
    "countries = ['United States', 'Spain', 'United Kingdom', 'Sweden', 'Netherlands']\n",
    "years = [1984, 2022]\n",
    "\n",
    "df = (df.loc[(df['Entity'].isin(countries)) & (df['Year'].isin(years)),\n",
    " ['Entity','Homosexuality: Never justifiable (aggregate)']])\n",
    "\n",
    "df"
   ]
  }
 ],
 "metadata": {
  "kernelspec": {
   "display_name": "Python (geo_env)",
   "language": "python",
   "name": "geo_env"
  },
  "language_info": {
   "codemirror_mode": {
    "name": "ipython",
    "version": 3
   },
   "file_extension": ".py",
   "mimetype": "text/x-python",
   "name": "python",
   "nbconvert_exporter": "python",
   "pygments_lexer": "ipython3",
   "version": "3.13.5"
  }
 },
 "nbformat": 4,
 "nbformat_minor": 5
}
